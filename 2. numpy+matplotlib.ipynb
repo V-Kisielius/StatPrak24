{
 "cells": [
  {
   "cell_type": "markdown",
   "metadata": {},
   "source": [
    "<a href=\"https://colab.research.google.com/drive/1YLwZfBaADEhNQPIQOwI3mq0dDcnQ9XDG?usp=sharing\" target=\"_parent\"><img src=\"https://colab.research.google.com/assets/colab-badge.svg\" alt=\"Open In Colab\"/></a>"
   ]
  },
  {
   "cell_type": "markdown",
   "metadata": {},
   "source": [
    "# NumPy"
   ]
  },
  {
   "cell_type": "code",
   "execution_count": null,
   "metadata": {},
   "outputs": [],
   "source": [
    "import numpy as np"
   ]
  },
  {
   "cell_type": "markdown",
   "metadata": {},
   "source": [
    "`NumPy` is a popular `Python` library for data science focusing on arrays, vectors, and matrices. It is a fundamental library for scientific computing, and it is built on top of the `C` programming language. It provides a high-performance multidimensional array object and tools for working with these arrays. Next example will show how fast `NumPy` is compared to the built-in `Python` lists."
   ]
  },
  {
   "cell_type": "code",
   "execution_count": null,
   "metadata": {},
   "outputs": [],
   "source": [
    "%timeit [i**2 for i in range(10000)]\n",
    "%timeit np.arange(10000)**2"
   ]
  },
  {
   "cell_type": "markdown",
   "metadata": {},
   "source": [
    "## Arrays"
   ]
  },
  {
   "cell_type": "markdown",
   "metadata": {},
   "source": [
    "### **One-dimensional arrays**"
   ]
  },
  {
   "cell_type": "code",
   "execution_count": null,
   "metadata": {},
   "outputs": [],
   "source": [
    "np.array([1, 2, 3, 4, 5])"
   ]
  },
  {
   "cell_type": "code",
   "execution_count": null,
   "metadata": {},
   "outputs": [],
   "source": [
    "np.array([1, 2, 3, 4, 5], dtype='float32')"
   ]
  },
  {
   "cell_type": "markdown",
   "metadata": {},
   "source": [
    "All supported data types in `NumPy` are listed [here](https://numpy.org/doc/stable/user/basics.types.html)."
   ]
  },
  {
   "cell_type": "code",
   "execution_count": null,
   "metadata": {},
   "outputs": [],
   "source": [
    "np.arange(1, 6), np.arange(1, 6, dtype='float32')"
   ]
  },
  {
   "cell_type": "code",
   "execution_count": null,
   "metadata": {},
   "outputs": [],
   "source": [
    "np.arange(10, 30, 5)"
   ]
  },
  {
   "cell_type": "code",
   "execution_count": null,
   "metadata": {},
   "outputs": [],
   "source": [
    "np.linspace(10, 30, 5)"
   ]
  },
  {
   "cell_type": "markdown",
   "metadata": {},
   "source": [
    "### **Multidimensional arrays**\n",
    "\n",
    "The `ndarray` is the main class of `NumPy`. It is a multidimensional array of elements of the same type. It is a table of elements (usually numbers), all of the same type, indexed by a tuple of positive integers. In `NumPy` dimensions are called axes. The number of axes is rank."
   ]
  },
  {
   "cell_type": "code",
   "execution_count": null,
   "metadata": {},
   "outputs": [],
   "source": [
    "matrix = np.array([[1, 2, 3],\n",
    "                   [4, 5, 6],\n",
    "                   [7, 8, 9]])\n",
    "matrix, matrix.shape, matrix.ndim, matrix.size, matrix.dtype, type(matrix)"
   ]
  },
  {
   "cell_type": "code",
   "execution_count": null,
   "metadata": {},
   "outputs": [],
   "source": [
    "np.arange(1, 10).reshape(3, 3)"
   ]
  },
  {
   "cell_type": "code",
   "execution_count": null,
   "metadata": {},
   "outputs": [],
   "source": [
    "np.zeros((3, 3)), np.ones((3, 3)), np.eye(3), np.diag(np.arange(1, 4), k=1), np.random.rand(3, 3)"
   ]
  },
  {
   "cell_type": "markdown",
   "metadata": {},
   "source": [
    "### **Indexing and slicing**"
   ]
  },
  {
   "cell_type": "markdown",
   "metadata": {},
   "source": [
    "<img src=\"https://github.com/waterhackweek/learning-resources/blob/master/notebooks/img/numpy_indexing.png?raw=1\" width=\"600\"/>"
   ]
  },
  {
   "cell_type": "code",
   "execution_count": null,
   "metadata": {},
   "outputs": [],
   "source": [
    "arr = np.arange(1, 28).reshape(3, 3, 3)\n",
    "arr"
   ]
  },
  {
   "cell_type": "code",
   "execution_count": null,
   "metadata": {},
   "outputs": [],
   "source": [
    "arr[0]"
   ]
  },
  {
   "cell_type": "code",
   "execution_count": null,
   "metadata": {},
   "outputs": [],
   "source": [
    "arr[:, 1]"
   ]
  },
  {
   "cell_type": "code",
   "execution_count": null,
   "metadata": {},
   "outputs": [],
   "source": [
    "arr[::2, 1::2]"
   ]
  },
  {
   "cell_type": "code",
   "execution_count": null,
   "metadata": {},
   "outputs": [],
   "source": [
    "arr[0, 0, [0, -1]]"
   ]
  },
  {
   "cell_type": "code",
   "execution_count": null,
   "metadata": {},
   "outputs": [],
   "source": [
    "# Fancy indexing\n",
    "arr[[0, 1, 2], [0, 1, 2]]"
   ]
  },
  {
   "cell_type": "markdown",
   "metadata": {},
   "source": [
    "### **Masking**"
   ]
  },
  {
   "cell_type": "code",
   "execution_count": null,
   "metadata": {},
   "outputs": [],
   "source": [
    "mask = arr > 14\n",
    "mask"
   ]
  },
  {
   "cell_type": "code",
   "execution_count": null,
   "metadata": {},
   "outputs": [],
   "source": [
    "arr[mask]"
   ]
  },
  {
   "cell_type": "code",
   "execution_count": null,
   "metadata": {},
   "outputs": [],
   "source": [
    "mask1 = (arr % 6 == 0) | (arr % 4 == 0)\n",
    "mask2 = np.logical_or(arr % 6 == 0, arr % 4 == 0)\n",
    "arr[mask1], arr[mask2]"
   ]
  },
  {
   "cell_type": "code",
   "execution_count": null,
   "metadata": {},
   "outputs": [],
   "source": [
    "arr[mask1] = -1\n",
    "arr"
   ]
  },
  {
   "cell_type": "markdown",
   "metadata": {},
   "source": [
    "### **Useful methods**"
   ]
  },
  {
   "cell_type": "markdown",
   "metadata": {},
   "source": [
    "All the methods of the `ndarray` class can be found [here](https://numpy.org/doc/stable/reference/generated/numpy.ndarray.html).\n",
    "\n",
    "If you forget what a method does, you can use **?** to get the documentation."
   ]
  },
  {
   "cell_type": "code",
   "execution_count": null,
   "metadata": {},
   "outputs": [],
   "source": [
    "arr = np.arange(1, 28).reshape(3, 3, 3)\n",
    "\n",
    "for func in (arr.max,\n",
    "             arr.min,\n",
    "             arr.mean,\n",
    "             arr.sum,\n",
    "             arr.std,\n",
    "             arr.var,\n",
    "             arr.prod,\n",
    "             arr.cumsum\n",
    "             ):\n",
    "    print(func.__name__, \"=\", func())"
   ]
  },
  {
   "cell_type": "code",
   "execution_count": null,
   "metadata": {},
   "outputs": [],
   "source": [
    "np.ndarray.flatten?"
   ]
  },
  {
   "cell_type": "markdown",
   "metadata": {},
   "source": [
    "Many methods have an `axis` parameter. If you set `axis=0`, the method will be applied to each column, if you set `axis=1`, the method will be applied to each row and so on."
   ]
  },
  {
   "cell_type": "code",
   "execution_count": null,
   "metadata": {},
   "outputs": [],
   "source": [
    "print(arr)\n",
    "print(arr.sum())\n",
    "print(arr.sum(axis=0))\n",
    "print(arr.sum(axis=1))"
   ]
  },
  {
   "cell_type": "markdown",
   "metadata": {},
   "source": [
    "Sorting arrays: `np.sort()`, `np.argsort()`, `np.argmax()`, `np.argmin()`"
   ]
  },
  {
   "cell_type": "code",
   "execution_count": null,
   "metadata": {},
   "outputs": [],
   "source": [
    "arr = np.random.randn(5)\n",
    "print(arr)\n",
    "print(np.sort(arr), np.argsort(arr))"
   ]
  },
  {
   "cell_type": "code",
   "execution_count": null,
   "metadata": {},
   "outputs": [],
   "source": [
    "a = np.floor(10 * np.random.rand(2, 2))\n",
    "print('Array a\\n', a)\n",
    "\n",
    "b = np.floor(10 * np.random.rand(2, 2))\n",
    "print('Array b\\n', b)\n",
    "\n",
    "print('\\n---Concatenate a and b vertically---\\n')\n",
    "print(np.vstack((a, b)))\n",
    "print('\\n---Concatenate a and b horizontally---\\n')\n",
    "print(np.hstack((a, b)))"
   ]
  },
  {
   "cell_type": "markdown",
   "metadata": {},
   "source": [
    "### **Array broadcasting**\n",
    "The term broadcasting describes how `NumPy` treats arrays with different shapes during arithmetic operations. Subject to certain constraints, the smaller array is “broadcast” across the larger array so that they have compatible shapes. Broadcasting provides a means of vectorizing array operations so that looping occurs in `C` instead of `Python`. It does this without making needless copies of data and usually leads to efficient algorithm implementations."
   ]
  },
  {
   "cell_type": "markdown",
   "metadata": {},
   "source": [
    "<img src=\"http://scipy-lectures.org/_images/numpy_broadcasting.png\" width=\"600\"/>"
   ]
  },
  {
   "cell_type": "code",
   "execution_count": null,
   "metadata": {},
   "outputs": [],
   "source": [
    "x = np.ones((3, 4))\n",
    "y = np.arange(4)\n",
    "print(x)\n",
    "print(y)\n",
    "# Add `x` and `y`. Note that `x` and `y` have different shapes.\n",
    "print(x.shape, y.shape)\n",
    "print(x + y)"
   ]
  },
  {
   "cell_type": "code",
   "execution_count": null,
   "metadata": {},
   "outputs": [],
   "source": [
    "x = np.ones((3, 4))\n",
    "y = np.arange(3)\n",
    "\n",
    "print(x)\n",
    "print(y)"
   ]
  },
  {
   "cell_type": "markdown",
   "metadata": {},
   "source": [
    "How to add a vector to each row of a matrix?\n",
    "The `x+y` provides an `ValueError` because the shapes of the arrays are different."
   ]
  },
  {
   "cell_type": "code",
   "execution_count": null,
   "metadata": {},
   "outputs": [],
   "source": [
    "# Answer"
   ]
  },
  {
   "cell_type": "markdown",
   "metadata": {},
   "source": [
    "# Matplotlib"
   ]
  },
  {
   "cell_type": "markdown",
   "metadata": {},
   "source": [
    "<img src=\"https://res.cloudinary.com/codecrucks/image/upload/c_scale,w_700,h_327,dpr_2/f_webp,q_auto/v1648958444/chart-types.png?_i=AA\" width=\"800\"/>"
   ]
  },
  {
   "cell_type": "markdown",
   "metadata": {},
   "source": [
    "<img src=\"http://blog.atkcg.ru/wp-content/uploads/2015/07/1-%D0%B9-%D1%81%D0%BB%D0%B0%D0%B9%D0%B41.jpg\" width=\"800\"/>"
   ]
  },
  {
   "cell_type": "markdown",
   "metadata": {},
   "source": [
    "Here is an image illustrating the anatomy of a `Matplotlib` plot. \n",
    "\n",
    "<img src=\"https://blog.logrocket.com/wp-content/uploads/2021/11/anatomy-figure.png\" width=\"800\"/>\n",
    "\n",
    "`Matplotlib` is a comprehensive library for creating static, animated, and interactive visualizations in `Python`. It is a multi-platform data visualization library built on `NumPy` arrays and designed to work with the broader `SciPy` stack. It was introduced by John Hunter in 2003 and is now maintained by a large team of developers. It is a great library for making publication-quality plots."
   ]
  },
  {
   "cell_type": "markdown",
   "metadata": {},
   "source": [
    "## Plotting your first graph"
   ]
  },
  {
   "cell_type": "markdown",
   "metadata": {},
   "source": [
    "First we need to import the `matplotlib` library."
   ]
  },
  {
   "cell_type": "code",
   "execution_count": null,
   "metadata": {},
   "outputs": [],
   "source": [
    "import matplotlib"
   ]
  },
  {
   "cell_type": "markdown",
   "metadata": {},
   "source": [
    "Matplotlib can output graphs using various backend graphics libraries, such as Tk, wxPython, etc.  When running python using the command line, the graphs are typically shown in a separate window. In a Jupyter notebook, we can simply output the graphs within the notebook itself by running the `%matplotlib inline` magic command."
   ]
  },
  {
   "cell_type": "code",
   "execution_count": null,
   "metadata": {},
   "outputs": [],
   "source": [
    "%matplotlib inline"
   ]
  },
  {
   "cell_type": "markdown",
   "metadata": {},
   "source": [
    "Now let's plot our first graph! :)"
   ]
  },
  {
   "cell_type": "code",
   "execution_count": null,
   "metadata": {},
   "outputs": [],
   "source": [
    "import matplotlib.pyplot as plt\n",
    "plt.plot([1, 2, 4, 9, 5, 3])\n",
    "plt.show()"
   ]
  },
  {
   "cell_type": "markdown",
   "metadata": {},
   "source": [
    "Yep, it's as simple as calling the `plot` function with some data, and then calling the `show` function!\n",
    "\n",
    "If the `plot` function is given one array of data, it will use it as the coordinates on the vertical axis, and it will just use each data point's index in the array as the horizontal coordinate.\n",
    "You can also provide two arrays: one for the horizontal axis `x`, and the second for the vertical axis `y`:"
   ]
  },
  {
   "cell_type": "code",
   "execution_count": null,
   "metadata": {},
   "outputs": [],
   "source": [
    "plt.plot([-3, -2, 5, 0], [1, 6, 4, 3])\n",
    "plt.show()"
   ]
  },
  {
   "cell_type": "markdown",
   "metadata": {},
   "source": [
    "The axes automatically match the extent of the data.  We would like to give the graph a bit more room, so let's call the `axis` function to change the extent of each axis `[xmin, xmax, ymin, ymax]`."
   ]
  },
  {
   "cell_type": "code",
   "execution_count": null,
   "metadata": {},
   "outputs": [],
   "source": [
    "plt.plot([-3, -2, 5, 0], [1, 6, 4, 3])\n",
    "plt.axis([-4, 6, 0, 7])\n",
    "plt.show()"
   ]
  },
  {
   "cell_type": "markdown",
   "metadata": {},
   "source": [
    "Now, let's plot a mathematical function. We use NumPy's `linspace` function to create an array `x` containing 500 floats ranging from -2 to 2, then we create a second array `y` computed as the square of `x` (to learn about NumPy, read the [NumPy tutorial](tools_numpy.ipynb))."
   ]
  },
  {
   "cell_type": "code",
   "execution_count": null,
   "metadata": {},
   "outputs": [],
   "source": [
    "x = np.linspace(-2, 2, 500)\n",
    "y = x**2\n",
    "\n",
    "plt.plot(x, y)\n",
    "plt.show()"
   ]
  },
  {
   "cell_type": "markdown",
   "metadata": {},
   "source": [
    "That's a bit dry, let's add a title, and x and y labels, and draw a grid."
   ]
  },
  {
   "cell_type": "code",
   "execution_count": null,
   "metadata": {},
   "outputs": [],
   "source": [
    "plt.plot(x, y)\n",
    "plt.title('Square function')\n",
    "plt.xlabel('x')\n",
    "plt.ylabel(f'y = $x^2$')\n",
    "plt.grid(True)\n",
    "plt.show()"
   ]
  },
  {
   "cell_type": "markdown",
   "metadata": {},
   "source": [
    "## Line style and color"
   ]
  },
  {
   "cell_type": "markdown",
   "metadata": {},
   "source": [
    "By default, matplotlib draws a line between consecutive points."
   ]
  },
  {
   "cell_type": "code",
   "execution_count": null,
   "metadata": {},
   "outputs": [],
   "source": [
    "plt.plot([0, 100, 100, 0, 0, 100, 50, 0, 100], [0, 0, 100, 100, 0, 100, 130, 100, 0])\n",
    "plt.axis([-10, 110, -10, 140])\n",
    "plt.show()"
   ]
  },
  {
   "cell_type": "markdown",
   "metadata": {},
   "source": [
    "You can pass a 3rd argument to change the line's style and color.\n",
    "For example `\"g--\"` means \"green dashed line\"."
   ]
  },
  {
   "cell_type": "code",
   "execution_count": null,
   "metadata": {},
   "outputs": [],
   "source": [
    "plt.plot([0, 100, 100, 0, 0, 100, 50, 0, 100], [0, 0, 100, 100, 0, 100, 130, 100, 0], \"g--\")\n",
    "plt.axis([-10, 110, -10, 140])\n",
    "plt.show()"
   ]
  },
  {
   "cell_type": "markdown",
   "metadata": {},
   "source": [
    "You can plot multiple lines on one graph very simply: just pass `x1, y1, [style1], x2, y2, [style2], ...`\n",
    "\n",
    "For example:"
   ]
  },
  {
   "cell_type": "code",
   "execution_count": null,
   "metadata": {},
   "outputs": [],
   "source": [
    "plt.plot([0, 100, 100, 0, 0], [0, 0, 100, 100, 0], \"r-\", [0, 100, 50, 0, 100], [0, 100, 130, 100, 0], \"g--\")\n",
    "plt.axis([-10, 110, -10, 140])\n",
    "plt.show()"
   ]
  },
  {
   "cell_type": "markdown",
   "metadata": {},
   "source": [
    "Or simply call `plot` multiple times before calling `show`."
   ]
  },
  {
   "cell_type": "code",
   "execution_count": null,
   "metadata": {},
   "outputs": [],
   "source": [
    "plt.plot([0, 100, 100, 0, 0], [0, 0, 100, 100, 0], \"r-\")\n",
    "plt.plot([0, 100, 50, 0, 100], [0, 100, 130, 100, 0], \"g--\")\n",
    "plt.axis([-10, 110, -10, 140])\n",
    "plt.show()"
   ]
  },
  {
   "cell_type": "markdown",
   "metadata": {},
   "source": [
    "You can also draw simple points instead of lines. Here's an example with green dashes, red dotted line and blue triangles.\n",
    "Check out [the documentation](http://matplotlib.org/api/pyplot_api.html#matplotlib.pyplot.plot) for the full list of style & color options."
   ]
  },
  {
   "cell_type": "code",
   "execution_count": null,
   "metadata": {},
   "outputs": [],
   "source": [
    "x = np.linspace(-1.4, 1.4, 30)\n",
    "plt.plot(x, x, 'g--', x, x**2, 'r:', x, x**3, 'b^')\n",
    "plt.show()"
   ]
  },
  {
   "cell_type": "markdown",
   "metadata": {},
   "source": [
    "The plot function returns a list of `Line2D` objects (one for each line).  You can set extra attributes on these lines, such as the line width, the dash style or the alpha level.  See the full list of attributes in [the documentation](http://matplotlib.org/users/pyplot_tutorial.html#controlling-line-properties)."
   ]
  },
  {
   "cell_type": "code",
   "execution_count": null,
   "metadata": {},
   "outputs": [],
   "source": [
    "x = np.linspace(-1.4, 1.4, 30)\n",
    "line1, line2, line3 = plt.plot(x, x, 'g--', x, x**2, 'r:', x, x**3, 'b^')\n",
    "line1.set_linewidth(3.0)\n",
    "line1.set_dash_capstyle(\"round\")\n",
    "line3.set_alpha(0.2)\n",
    "plt.show()"
   ]
  },
  {
   "cell_type": "markdown",
   "metadata": {},
   "source": [
    "## Subplots\n",
    "A matplotlib figure may contain multiple subplots. These subplots are organized in a grid. To create a subplot, just call the `subplot` function, and specify the number of rows and columns in the figure, and the index of the subplot you want to draw on (starting from 1, then left to right, and top to bottom). Note that pyplot keeps track of the currently active subplot (which you can get a reference to by calling `plt.gca()`), so when you call the `plot` function, it draws on the *active* subplot.\n"
   ]
  },
  {
   "cell_type": "code",
   "execution_count": null,
   "metadata": {},
   "outputs": [],
   "source": [
    "x = np.linspace(-1.4, 1.4, 30)\n",
    "plt.subplot(2, 2, 1)  # 2 rows, 2 columns, 1st subplot = top left\n",
    "plt.plot(x, x)\n",
    "plt.subplot(2, 2, 2)  # 2 rows, 2 columns, 2nd subplot = top right\n",
    "plt.plot(x, x**2)\n",
    "plt.subplot(2, 2, 3)  # 2 rows, 2 columns, 3rd subplot = bottow left\n",
    "plt.plot(x, x**3)\n",
    "plt.subplot(2, 2, 4)  # 2 rows, 2 columns, 4th subplot = bottom right\n",
    "plt.plot(x, x**4)\n",
    "plt.show()"
   ]
  },
  {
   "cell_type": "markdown",
   "metadata": {},
   "source": [
    "* Note that `subplot(223)` is a shorthand for `subplot(2, 2, 3)`."
   ]
  },
  {
   "cell_type": "markdown",
   "metadata": {},
   "source": [
    "It is easy to create subplots that span across multiple grid cells like so:"
   ]
  },
  {
   "cell_type": "code",
   "execution_count": null,
   "metadata": {},
   "outputs": [],
   "source": [
    "plt.subplot(2, 2, 1)  # 2 rows, 2 columns, 1st subplot = top left\n",
    "plt.plot(x, x)\n",
    "plt.subplot(2, 2, 2)  # 2 rows, 2 columns, 2nd subplot = top right\n",
    "plt.plot(x, x**2)\n",
    "plt.subplot(2, 1, 2)  # 2 rows, *1* column, 2nd subplot = bottom\n",
    "plt.plot(x, x**3)\n",
    "plt.show()"
   ]
  },
  {
   "cell_type": "markdown",
   "metadata": {},
   "source": [
    "If you need more complex subplot positionning, you can use `subplot2grid` instead of `subplot`. You specify the number of rows and columns in the grid, then your subplot's position in that grid (top-left = (0,0)), and optionally how many rows and/or columns it spans.  For example:"
   ]
  },
  {
   "cell_type": "code",
   "execution_count": null,
   "metadata": {},
   "outputs": [],
   "source": [
    "plt.subplot2grid((3,3), (0, 0), rowspan=2, colspan=2)\n",
    "plt.plot(x, x**2)\n",
    "plt.subplot2grid((3,3), (0, 2))\n",
    "plt.plot(x, x**3)\n",
    "plt.subplot2grid((3,3), (1, 2), rowspan=2)\n",
    "plt.plot(x, x**4)\n",
    "plt.subplot2grid((3,3), (2, 0), colspan=2)\n",
    "plt.plot(x, x**5)\n",
    "plt.show()"
   ]
  },
  {
   "cell_type": "markdown",
   "metadata": {},
   "source": [
    "If you need even more flexibility in subplot positioning, check out the [GridSpec documentation](http://matplotlib.org/users/gridspec.html)"
   ]
  },
  {
   "cell_type": "markdown",
   "metadata": {},
   "source": [
    "When you are writing a program, *explicit is better than implicit*. Explicit code is usually easier to debug and maintain, and if you don't believe me just read the 2nd rule in the **Zen of Python**."
   ]
  },
  {
   "cell_type": "markdown",
   "metadata": {},
   "source": [
    "You can write beautifully explicit code. Simply call the `subplots` function and use the figure object and the list of axes objects that are returned. No more magic! For example:"
   ]
  },
  {
   "cell_type": "code",
   "execution_count": null,
   "metadata": {},
   "outputs": [],
   "source": [
    "x = np.linspace(-2, 2, 200)\n",
    "\n",
    "fig1, (ax_top, ax_bottom) = plt.subplots(2, 1, sharex=True)\n",
    "fig1.set_size_inches(10,5)\n",
    "line1, line2 = ax_top.plot(x, np.sin(3*x**2), \"r-\", x, np.cos(5*x**2), \"b-\")\n",
    "line3, = ax_bottom.plot(x, np.sin(3*x), \"r--\")\n",
    "ax_bottom.grid(True)\n",
    "\n",
    "\n",
    "fig2, ax = plt.subplots(1, 1)\n",
    "ax.plot(x, x**2)\n",
    "\n",
    "plt.show()"
   ]
  },
  {
   "cell_type": "markdown",
   "metadata": {},
   "source": [
    "## Drawing text\n",
    "You can call `text` to add text at any location in the graph. Just specify the horizontal and vertical coordinates and the text, and optionally some extra attributes.  Any text in matplotlib may contain TeX equation expressions, see [the documentation](http://matplotlib.org/users/mathtext.html) for more details."
   ]
  },
  {
   "cell_type": "code",
   "execution_count": null,
   "metadata": {},
   "outputs": [],
   "source": [
    "x = np.linspace(-1.5, 1.5, 30)\n",
    "px = 0.8\n",
    "py = px**2\n",
    "\n",
    "plt.plot(x, x**2, \"b-\", px, py, \"ro\")\n",
    "\n",
    "plt.text(0, 1.5, \"Square function\\n$y = x^2$\", fontsize=20, color='blue', horizontalalignment=\"center\")\n",
    "plt.text(px - 0.08, py, \"Beautiful point\", ha=\"right\", weight=\"heavy\")\n",
    "plt.text(px, py, \"x = %0.2f\\ny = %0.2f\"%(px, py), rotation=-30, color='gray')\n",
    "\n",
    "plt.show()"
   ]
  },
  {
   "cell_type": "markdown",
   "metadata": {},
   "source": [
    "* Note: `ha` is an alias for `horizontalalignment`\n",
    "\n",
    "For more text properties, visit [the documentation](http://matplotlib.org/users/text_props.html#text-properties).\n",
    "\n",
    "It is quite frequent to annotate elements of a graph, such as the beautiful point above. The `annotate` function makes this easy: just indicate the location of the point of interest, and the position of the text, plus optionally some extra attributes for the text and the arrow."
   ]
  },
  {
   "cell_type": "code",
   "execution_count": null,
   "metadata": {},
   "outputs": [],
   "source": [
    "plt.plot(x, x**2, px, py, \"ro\")\n",
    "plt.annotate(\"Beautiful point\", xy=(px, py), xytext=(px-1.3,py+0.5),\n",
    "                           color=\"green\", weight=\"heavy\", fontsize=14,\n",
    "                           arrowprops={\"facecolor\": \"lightgreen\"})\n",
    "plt.show()"
   ]
  },
  {
   "cell_type": "markdown",
   "metadata": {},
   "source": [
    "You can also add a bounding box around your text by using the `bbox` attribute:"
   ]
  },
  {
   "cell_type": "code",
   "execution_count": null,
   "metadata": {},
   "outputs": [],
   "source": [
    "plt.plot(x, x**2, px, py, \"ro\")\n",
    "\n",
    "bbox_props = dict(boxstyle=\"rarrow,pad=0.3\", ec=\"b\", lw=2, fc=\"lightblue\")\n",
    "plt.text(px-0.2, py, \"Beautiful point\", bbox=bbox_props, ha=\"right\")\n",
    "\n",
    "bbox_props = dict(boxstyle=\"round4,pad=1,rounding_size=0.2\", ec=\"black\", fc=\"#EEEEFF\", lw=5)\n",
    "plt.text(0, 1.5, \"Square function\\n$y = x^2$\", fontsize=20, color='black', ha=\"center\", bbox=bbox_props)\n",
    "\n",
    "plt.show()"
   ]
  },
  {
   "cell_type": "markdown",
   "metadata": {},
   "source": [
    "Just for fun, if you want an [xkcd](http://xkcd.com)-style plot, just draw within a `with plt.xkcd()` section:"
   ]
  },
  {
   "cell_type": "code",
   "execution_count": null,
   "metadata": {},
   "outputs": [],
   "source": [
    "with plt.xkcd():\n",
    "    plt.plot(x, x**2, px, py, \"ro\")\n",
    "\n",
    "    bbox_props = dict(boxstyle=\"rarrow,pad=0.3\", ec=\"b\", lw=2, fc=\"lightblue\")\n",
    "    plt.text(px-0.2, py, \"Beautiful point\", bbox=bbox_props, ha=\"right\")\n",
    "\n",
    "    bbox_props = dict(boxstyle=\"round4,pad=1,rounding_size=0.2\", ec=\"black\", fc=\"#EEEEFF\", lw=5)\n",
    "    plt.text(0, 1.5, \"Square function\\n$y = x^2$\", fontsize=20, color='black', ha=\"center\", bbox=bbox_props)\n",
    "\n",
    "    plt.show()"
   ]
  },
  {
   "cell_type": "markdown",
   "metadata": {},
   "source": [
    "## Legends\n",
    "The simplest way to add a legend is to set a label on all lines, then just call the `legend` function."
   ]
  },
  {
   "cell_type": "code",
   "execution_count": null,
   "metadata": {},
   "outputs": [],
   "source": [
    "x = np.linspace(-1.4, 1.4, 50)\n",
    "plt.plot(x, x**2, \"r--\", label=\"Square function\")\n",
    "plt.plot(x, x**3, \"g-\", label=\"Cube function\")\n",
    "plt.legend(loc=\"best\")\n",
    "plt.grid(True)\n",
    "plt.show()"
   ]
  },
  {
   "cell_type": "markdown",
   "metadata": {},
   "source": [
    "## Ticks and tickers\n",
    "The axes have little marks called \"ticks\".  To be precise, \"ticks\" are the *locations* of the marks (eg. (-1, 0, 1)), \"tick lines\" are the small lines drawn at those locations, \"tick labels\" are the labels drawn next to the tick lines, and \"tickers\" are objects that are capable of deciding where to place ticks. The default tickers typically do a pretty good job at placing ~5 to 8 ticks at a reasonable distance from one another.\n",
    "\n",
    "But sometimes you need more control (eg. there are too many tick labels on the logit graph above). Fortunately, matplotlib gives you full control over ticks.  You can even activate minor ticks.\n",
    "\n"
   ]
  },
  {
   "cell_type": "code",
   "execution_count": null,
   "metadata": {},
   "outputs": [],
   "source": [
    "x = np.linspace(-2, 2, 100)\n",
    "\n",
    "plt.figure(1, figsize=(15,10))\n",
    "plt.subplot(131)\n",
    "plt.plot(x, x**3)\n",
    "plt.grid(True)\n",
    "plt.title(\"Default ticks\")\n",
    "\n",
    "ax = plt.subplot(132)\n",
    "plt.plot(x, x**3)\n",
    "ax.xaxis.set_ticks(np.arange(-2, 2, 1))\n",
    "plt.grid(True)\n",
    "plt.title(\"Manual ticks on the x-axis\")\n",
    "\n",
    "ax = plt.subplot(133)\n",
    "plt.plot(x, x**3)\n",
    "plt.minorticks_on()\n",
    "ax.tick_params(axis='x', which='minor', bottom='off')\n",
    "ax.xaxis.set_ticks([-2, 0, 1, 2])\n",
    "ax.yaxis.set_ticks(np.arange(-5, 5, 1))\n",
    "ax.yaxis.set_ticklabels([\"min\", -4, -3, -2, -1, 0, 1, 2, 3, \"max\"])\n",
    "plt.title(\"Manual ticks and tick labels\\n(plus minor ticks) on the y-axis\")\n",
    "\n",
    "\n",
    "plt.grid(True)\n",
    "\n",
    "plt.show()"
   ]
  },
  {
   "cell_type": "markdown",
   "metadata": {},
   "source": [
    "## 3D projection\n",
    "\n",
    "Plotting 3D graphs is quite straightforward. You need to import `Axes3D`, which registers the `\"3d\"` projection. Then create a subplot setting the `projection` to `\"3d\"`. This returns an `Axes3DSubplot` object, which you can use to call `plot_surface`, giving x, y, and z coordinates, plus optional attributes."
   ]
  },
  {
   "cell_type": "code",
   "execution_count": null,
   "metadata": {},
   "outputs": [],
   "source": [
    "from mpl_toolkits.mplot3d import Axes3D\n",
    "\n",
    "x = np.linspace(-5, 5, 50)\n",
    "y = np.linspace(-5, 5, 50)\n",
    "X, Y = np.meshgrid(x, y)\n",
    "R = np.sqrt(X**2 + Y**2)\n",
    "Z = np.sin(R)\n",
    "\n",
    "figure = plt.figure(1, figsize = (12, 4))\n",
    "subplot3d = plt.subplot(111, projection='3d')\n",
    "surface = subplot3d.plot_surface(X, Y, Z, rstride=1, cstride=1, cmap='seismic', linewidth=0.1)\n",
    "plt.show()\n"
   ]
  },
  {
   "cell_type": "markdown",
   "metadata": {},
   "source": [
    "Another way to display this same data is *via* a contour plot."
   ]
  },
  {
   "cell_type": "code",
   "execution_count": null,
   "metadata": {},
   "outputs": [],
   "source": [
    "plt.contourf(X, Y, Z, cmap='seismic')\n",
    "plt.colorbar()\n",
    "plt.show()"
   ]
  },
  {
   "cell_type": "markdown",
   "metadata": {},
   "source": [
    "## Scatter plot"
   ]
  },
  {
   "cell_type": "markdown",
   "metadata": {},
   "source": [
    "To draw a scatter plot, simply provide the x and y coordinates of the points."
   ]
  },
  {
   "cell_type": "code",
   "execution_count": null,
   "metadata": {},
   "outputs": [],
   "source": [
    "x, y = np.random.rand(2, 100)\n",
    "plt.scatter(x, y)\n",
    "plt.show()"
   ]
  },
  {
   "cell_type": "markdown",
   "metadata": {},
   "source": [
    "You may also optionally provide the scale of each point."
   ]
  },
  {
   "cell_type": "code",
   "execution_count": null,
   "metadata": {},
   "outputs": [],
   "source": [
    "x, y, scale = np.random.rand(3, 100)\n",
    "scale = 500 * scale ** 5\n",
    "plt.scatter(x, y, s=scale)\n",
    "plt.show()"
   ]
  },
  {
   "cell_type": "markdown",
   "metadata": {},
   "source": [
    "And as usual there are a number of other attributes you can set, such as the fill and edge colors and the alpha level."
   ]
  },
  {
   "cell_type": "code",
   "execution_count": null,
   "metadata": {},
   "outputs": [],
   "source": [
    "for color in ['red', 'green', 'blue']:\n",
    "    n = 100\n",
    "    x, y = np.random.rand(2, n)\n",
    "    scale = 500.0 * np.random.rand(n) ** 5\n",
    "    plt.scatter(x, y, s=scale, c=color, alpha=0.3, edgecolors='blue')\n",
    "\n",
    "plt.grid(True)\n",
    "\n",
    "plt.show()\n"
   ]
  },
  {
   "cell_type": "markdown",
   "metadata": {},
   "source": [
    "## Histograms"
   ]
  },
  {
   "cell_type": "code",
   "execution_count": null,
   "metadata": {},
   "outputs": [],
   "source": [
    "data = [1, 1.1, 1.8, 2, 2.1, 3.2, 3, 3, 3, 3]\n",
    "plt.subplot(211)\n",
    "plt.hist(data, bins = 10, rwidth=0.8)\n",
    "\n",
    "plt.subplot(212)\n",
    "plt.hist(data, bins = [1, 1.5, 2, 2.5, 3], rwidth=0.95)\n",
    "plt.xlabel(\"Value\")\n",
    "plt.ylabel(\"Frequency\")\n",
    "\n",
    "plt.show()"
   ]
  },
  {
   "cell_type": "code",
   "execution_count": null,
   "metadata": {},
   "outputs": [],
   "source": [
    "data1 = np.random.randn(400)\n",
    "data2 = np.random.randn(500) + 3\n",
    "data3 = np.random.randn(450) + 6\n",
    "data4a = np.random.randn(200) + 9\n",
    "data4b = np.random.randn(100) + 10\n",
    "\n",
    "plt.hist(data1, bins=5, color='g', alpha=0.75, label='bar hist') # default histtype='bar'\n",
    "plt.hist(data2, color='b', alpha=0.65, histtype='stepfilled', label='stepfilled hist')\n",
    "plt.hist(data3, color='r', histtype='step', label='step hist')\n",
    "plt.hist((data4a, data4b), color=('r','m'), alpha=0.55, histtype='barstacked', label=('barstacked a', 'barstacked b'))\n",
    "\n",
    "plt.xlabel(\"Value\")\n",
    "plt.ylabel(\"Frequency\")\n",
    "plt.legend()\n",
    "plt.grid(True)\n",
    "plt.show()"
   ]
  },
  {
   "cell_type": "markdown",
   "metadata": {},
   "source": [
    "# Example of beauty with matplotlib and NumPy"
   ]
  },
  {
   "cell_type": "markdown",
   "metadata": {},
   "source": [
    "In subsequent sections we'll provide a basic introduction to the nuts and bolts of the basic scientific python tools; but we'll first motivate it with a brief example that illustrates what you can do in a few lines with these tools.  For this, we will use the simple problem of approximating a definite integral with the trapezoid rule:\n",
    "\n",
    "$$\n",
    "\\int\\limits_{a}^{b} f(x)\\, dx \\approx \\frac{1}{2} \\sum_{k=1}^{N} \\left( x_{k} - x_{k-1} \\right) \\left( f(x_{k}) + f(x_{k-1}) \\right).\n",
    "$$\n",
    "\n",
    "Our task will be to compute this formula for a function such as:\n",
    "\n",
    "$$\n",
    "f(x) = (x-3)(x-5)(x-7)+85\n",
    "$$\n",
    "\n",
    "integrated between $a=1$ and $b=9$.\n",
    "\n",
    "First, we define the function and sample it evenly between 0 and 10 at 200 points:"
   ]
  },
  {
   "cell_type": "code",
   "execution_count": null,
   "metadata": {},
   "outputs": [],
   "source": [
    "f = lambda x: (x-3)*(x-5)*(x-7) + 85\n",
    "\n",
    "x = np.linspace(0, 10, 200)\n",
    "y = f(x)"
   ]
  },
  {
   "cell_type": "markdown",
   "metadata": {},
   "source": [
    "We select $a$ and $b$, our integration limits, and we take only a few points in that region to illustrate the error behavior of the trapezoid approximation:"
   ]
  },
  {
   "cell_type": "code",
   "execution_count": null,
   "metadata": {},
   "outputs": [],
   "source": [
    "a, b = 1, 9\n",
    "sampling = 10\n",
    "xint = x[np.logical_and(x>=a, x<=b)][::sampling]\n",
    "yint = y[np.logical_and(x>=a, x<=b)][::sampling]\n",
    "# Fix end points of the interval\n",
    "xint[0], xint[-1] = a, b\n",
    "yint[0], yint[-1] = f(a), f(b)"
   ]
  },
  {
   "cell_type": "code",
   "execution_count": null,
   "metadata": {},
   "outputs": [],
   "source": [
    "plt.plot([a, a], [0, f(a)], color='red')\n",
    "plt.plot([b, b], [0, f(b)], color='red')\n",
    "plt.plot(x, y, lw=2)\n",
    "plt.axis([a-1, b+1, 0, 140])\n",
    "plt.fill_between(xint, 0, yint, facecolor='gray', alpha=.4)\n",
    "plt.text(0.5 * (a + b), 30,r\"$\\int_a^b f(x)\\,dx$\", horizontalalignment='center', fontsize=20);"
   ]
  },
  {
   "cell_type": "code",
   "execution_count": null,
   "metadata": {},
   "outputs": [],
   "source": [
    "from scipy.integrate import quad, trapz\n",
    "\n",
    "integral, error = quad(f, a, b)\n",
    "trap_integral = trapz(yint, xint)\n",
    "print(\"The integral is: %g +/- %.1e\" % (integral, error))\n",
    "print(\"The trapezoid approximation with\", len(xint), \"points is:\", trap_integral)\n",
    "print(\"The absolute error is:\", abs(integral - trap_integral))"
   ]
  },
  {
   "cell_type": "markdown",
   "metadata": {},
   "source": [
    "This simple example showed us how, combining the numpy, scipy and matplotlib libraries we can provide an illustration of a standard method in elementary calculus with just a few lines of code.  We will now discuss with more detail the basic usage of these tools.\n",
    "\n",
    "A note on visual styles: matplotlib has a rich system for controlling the visual style of all plot elements. [This page](https://tonysyu.github.io/raw_content/matplotlib-style-gallery/gallery.html) is a gallery that illustrates how each style choice affects different plot types, which you can use to select the most appropriate to your needs."
   ]
  }
 ],
 "metadata": {
  "kernelspec": {
   "display_name": "Python 3",
   "language": "python",
   "name": "python3"
  },
  "language_info": {
   "codemirror_mode": {
    "name": "ipython",
    "version": 3
   },
   "file_extension": ".py",
   "mimetype": "text/x-python",
   "name": "python",
   "nbconvert_exporter": "python",
   "pygments_lexer": "ipython3",
   "version": "3.10.6"
  }
 },
 "nbformat": 4,
 "nbformat_minor": 2
}
